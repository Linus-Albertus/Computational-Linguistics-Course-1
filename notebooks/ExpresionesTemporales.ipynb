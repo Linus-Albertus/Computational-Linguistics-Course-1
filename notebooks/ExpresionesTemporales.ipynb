{
 "cells": [
  {
   "cell_type": "markdown",
   "metadata": {},
   "source": [
    "# Expresiones temporales en 4 tipos de textos distintos"
   ]
  },
  {
   "cell_type": "markdown",
   "metadata": {},
   "source": [
    "Christian Ríos y Lino Urdaneta"
   ]
  },
  {
   "cell_type": "markdown",
   "metadata": {},
   "source": [
    "## Procesamiento básico"
   ]
  },
  {
   "cell_type": "code",
   "execution_count": 1,
   "metadata": {},
   "outputs": [],
   "source": [
    "%matplotlib inline\n",
    "%config InlineBackend.figure_format='retina'\n",
    "import os, nltk\n",
    "import xml.etree.ElementTree as etree\n",
    "import pandas as pd"
   ]
  },
  {
   "cell_type": "code",
   "execution_count": 2,
   "metadata": {},
   "outputs": [],
   "source": [
    "def time_type(archivo):\n",
    "    archivo_xml = etree.parse(archivo)\n",
    "    raiz_xml = archivo_xml.getroot()\n",
    "    lista_tipo = []\n",
    "    for i in raiz_xml[1]:\n",
    "        nodo = i.attrib\n",
    "        tipo = nodo.get('type') # si se cambia esto se pueden buscar otros atributos\n",
    "        lista_tipo.append(tipo)\n",
    "    return lista_tipo"
   ]
  },
  {
   "cell_type": "code",
   "execution_count": 3,
   "metadata": {},
   "outputs": [],
   "source": [
    "# Nota: No debe haber archivos ocultos en estos directorios.\n",
    "\n",
    "# Crea una lista de archivos XML\n",
    "lista_archivos = [(x, i) for x, y, z in os.walk('/Users/lino/Dropbox/Cosas de Christian-kun/Textos') for i in z if i.endswith('xml')] "
   ]
  },
  {
   "cell_type": "code",
   "execution_count": 4,
   "metadata": {},
   "outputs": [],
   "source": [
    "lista_tiempo = [(directorio[0][directorio[0].rfind('/')+1:], archivo) for directorio in lista_archivos \n",
    "                for archivo in time_type(directorio[0] + '/' + directorio[1])]"
   ]
  },
  {
   "cell_type": "markdown",
   "metadata": {},
   "source": [
    "Convertir a un objeto de Pandas:"
   ]
  },
  {
   "cell_type": "code",
   "execution_count": 5,
   "metadata": {},
   "outputs": [],
   "source": [
    "d = [{'texto':a, 'time_type':b} for a, b in lista_tiempo]\n",
    "data = pd.DataFrame(d)"
   ]
  },
  {
   "cell_type": "code",
   "execution_count": 6,
   "metadata": {},
   "outputs": [
    {
     "data": {
      "text/html": [
       "<div>\n",
       "<style scoped>\n",
       "    .dataframe tbody tr th:only-of-type {\n",
       "        vertical-align: middle;\n",
       "    }\n",
       "\n",
       "    .dataframe tbody tr th {\n",
       "        vertical-align: top;\n",
       "    }\n",
       "\n",
       "    .dataframe thead th {\n",
       "        text-align: right;\n",
       "    }\n",
       "</style>\n",
       "<table border=\"1\" class=\"dataframe\">\n",
       "  <thead>\n",
       "    <tr style=\"text-align: right;\">\n",
       "      <th></th>\n",
       "      <th>texto</th>\n",
       "      <th>time_type</th>\n",
       "    </tr>\n",
       "  </thead>\n",
       "  <tbody>\n",
       "    <tr>\n",
       "      <th>0</th>\n",
       "      <td>astronomia</td>\n",
       "      <td>DATE</td>\n",
       "    </tr>\n",
       "    <tr>\n",
       "      <th>1</th>\n",
       "      <td>astronomia</td>\n",
       "      <td>DATE</td>\n",
       "    </tr>\n",
       "    <tr>\n",
       "      <th>2</th>\n",
       "      <td>astronomia</td>\n",
       "      <td>DATE</td>\n",
       "    </tr>\n",
       "    <tr>\n",
       "      <th>3</th>\n",
       "      <td>astronomia</td>\n",
       "      <td>DATE</td>\n",
       "    </tr>\n",
       "    <tr>\n",
       "      <th>4</th>\n",
       "      <td>astronomia</td>\n",
       "      <td>DATE</td>\n",
       "    </tr>\n",
       "  </tbody>\n",
       "</table>\n",
       "</div>"
      ],
      "text/plain": [
       "        texto time_type\n",
       "0  astronomia      DATE\n",
       "1  astronomia      DATE\n",
       "2  astronomia      DATE\n",
       "3  astronomia      DATE\n",
       "4  astronomia      DATE"
      ]
     },
     "execution_count": 6,
     "metadata": {},
     "output_type": "execute_result"
    }
   ],
   "source": [
    "data.head()"
   ]
  },
  {
   "cell_type": "code",
   "execution_count": 7,
   "metadata": {},
   "outputs": [
    {
     "data": {
      "text/html": [
       "<div>\n",
       "<style scoped>\n",
       "    .dataframe tbody tr th:only-of-type {\n",
       "        vertical-align: middle;\n",
       "    }\n",
       "\n",
       "    .dataframe tbody tr th {\n",
       "        vertical-align: top;\n",
       "    }\n",
       "\n",
       "    .dataframe thead tr th {\n",
       "        text-align: left;\n",
       "    }\n",
       "\n",
       "    .dataframe thead tr:last-of-type th {\n",
       "        text-align: right;\n",
       "    }\n",
       "</style>\n",
       "<table border=\"1\" class=\"dataframe\">\n",
       "  <thead>\n",
       "    <tr>\n",
       "      <th></th>\n",
       "      <th colspan=\"4\" halign=\"left\">time_type</th>\n",
       "    </tr>\n",
       "    <tr>\n",
       "      <th></th>\n",
       "      <th>count</th>\n",
       "      <th>unique</th>\n",
       "      <th>top</th>\n",
       "      <th>freq</th>\n",
       "    </tr>\n",
       "    <tr>\n",
       "      <th>texto</th>\n",
       "      <th></th>\n",
       "      <th></th>\n",
       "      <th></th>\n",
       "      <th></th>\n",
       "    </tr>\n",
       "  </thead>\n",
       "  <tbody>\n",
       "    <tr>\n",
       "      <th>astronomia</th>\n",
       "      <td>211</td>\n",
       "      <td>3</td>\n",
       "      <td>DATE</td>\n",
       "      <td>166</td>\n",
       "    </tr>\n",
       "    <tr>\n",
       "      <th>astronomy</th>\n",
       "      <td>305</td>\n",
       "      <td>3</td>\n",
       "      <td>DATE</td>\n",
       "      <td>212</td>\n",
       "    </tr>\n",
       "    <tr>\n",
       "      <th>eventosHistoricos</th>\n",
       "      <td>459</td>\n",
       "      <td>4</td>\n",
       "      <td>DATE</td>\n",
       "      <td>396</td>\n",
       "    </tr>\n",
       "    <tr>\n",
       "      <th>historicalevents</th>\n",
       "      <td>1038</td>\n",
       "      <td>4</td>\n",
       "      <td>DATE</td>\n",
       "      <td>839</td>\n",
       "    </tr>\n",
       "    <tr>\n",
       "      <th>news</th>\n",
       "      <td>68</td>\n",
       "      <td>4</td>\n",
       "      <td>DATE</td>\n",
       "      <td>50</td>\n",
       "    </tr>\n",
       "    <tr>\n",
       "      <th>noticias</th>\n",
       "      <td>61</td>\n",
       "      <td>3</td>\n",
       "      <td>DATE</td>\n",
       "      <td>46</td>\n",
       "    </tr>\n",
       "    <tr>\n",
       "      <th>zoologia</th>\n",
       "      <td>234</td>\n",
       "      <td>3</td>\n",
       "      <td>DATE</td>\n",
       "      <td>126</td>\n",
       "    </tr>\n",
       "    <tr>\n",
       "      <th>zoology</th>\n",
       "      <td>520</td>\n",
       "      <td>4</td>\n",
       "      <td>DATE</td>\n",
       "      <td>361</td>\n",
       "    </tr>\n",
       "  </tbody>\n",
       "</table>\n",
       "</div>"
      ],
      "text/plain": [
       "                  time_type                  \n",
       "                      count unique   top freq\n",
       "texto                                        \n",
       "astronomia              211      3  DATE  166\n",
       "astronomy               305      3  DATE  212\n",
       "eventosHistoricos       459      4  DATE  396\n",
       "historicalevents       1038      4  DATE  839\n",
       "news                     68      4  DATE   50\n",
       "noticias                 61      3  DATE   46\n",
       "zoologia                234      3  DATE  126\n",
       "zoology                 520      4  DATE  361"
      ]
     },
     "execution_count": 7,
     "metadata": {},
     "output_type": "execute_result"
    }
   ],
   "source": [
    "data.groupby('texto').describe()"
   ]
  },
  {
   "cell_type": "markdown",
   "metadata": {},
   "source": [
    "### Resumen"
   ]
  },
  {
   "cell_type": "code",
   "execution_count": 8,
   "metadata": {},
   "outputs": [
    {
     "name": "stdout",
     "output_type": "stream",
     "text": [
      "                      DATE DURATION      SET     TIME \n",
      "       astronomia      166       44        1        0 \n",
      "        astronomy      212       87        6        0 \n",
      "eventosHistoricos      396       54        1        8 \n",
      " historicalevents      839      177        4       18 \n",
      "             news       50       13        1        4 \n",
      "         noticias       46       11        0        4 \n",
      "         zoologia      126      105        3        0 \n",
      "          zoology      361      149        8        2 \n"
     ]
    }
   ],
   "source": [
    "dfc = nltk.ConditionalFreqDist(lista_tiempo)\n",
    "dfc.tabulate()"
   ]
  },
  {
   "cell_type": "markdown",
   "metadata": {},
   "source": [
    "## Cálculo ANOVA"
   ]
  },
  {
   "cell_type": "markdown",
   "metadata": {},
   "source": [
    "## Datos generales"
   ]
  },
  {
   "cell_type": "code",
   "execution_count": 9,
   "metadata": {},
   "outputs": [],
   "source": [
    "datos = [(texto[0][texto[0].rfind('/')+1:], texto[1][:-8], cantidad) for texto in lista_archivos for cantidad in time_type(texto[0] + '/' + texto[1])]\n",
    "casos = [w for w in datos]\n",
    "set_casos = set(casos)"
   ]
  },
  {
   "cell_type": "code",
   "execution_count": 10,
   "metadata": {},
   "outputs": [],
   "source": [
    "d = [{'grupo': w[0], 'texto': w[1], 'cantidad': casos.count(w)} for w in set_casos]\n",
    "general_data = pd.DataFrame(d)"
   ]
  },
  {
   "cell_type": "code",
   "execution_count": 11,
   "metadata": {},
   "outputs": [
    {
     "data": {
      "text/html": [
       "<div>\n",
       "<style scoped>\n",
       "    .dataframe tbody tr th:only-of-type {\n",
       "        vertical-align: middle;\n",
       "    }\n",
       "\n",
       "    .dataframe tbody tr th {\n",
       "        vertical-align: top;\n",
       "    }\n",
       "\n",
       "    .dataframe thead th {\n",
       "        text-align: right;\n",
       "    }\n",
       "</style>\n",
       "<table border=\"1\" class=\"dataframe\">\n",
       "  <thead>\n",
       "    <tr style=\"text-align: right;\">\n",
       "      <th></th>\n",
       "      <th>cantidad</th>\n",
       "      <th>grupo</th>\n",
       "      <th>texto</th>\n",
       "    </tr>\n",
       "  </thead>\n",
       "  <tbody>\n",
       "    <tr>\n",
       "      <th>0</th>\n",
       "      <td>45</td>\n",
       "      <td>eventosHistoricos</td>\n",
       "      <td>batallaBerlinEspaciado</td>\n",
       "    </tr>\n",
       "    <tr>\n",
       "      <th>1</th>\n",
       "      <td>23</td>\n",
       "      <td>astronomy</td>\n",
       "      <td>bigbang.t</td>\n",
       "    </tr>\n",
       "    <tr>\n",
       "      <th>2</th>\n",
       "      <td>14</td>\n",
       "      <td>astronomia</td>\n",
       "      <td>sistemaSolarEspaciado</td>\n",
       "    </tr>\n",
       "    <tr>\n",
       "      <th>3</th>\n",
       "      <td>8</td>\n",
       "      <td>noticias</td>\n",
       "      <td>iranEspaciado</td>\n",
       "    </tr>\n",
       "    <tr>\n",
       "      <th>4</th>\n",
       "      <td>12</td>\n",
       "      <td>noticias</td>\n",
       "      <td>coincheckEspaciado</td>\n",
       "    </tr>\n",
       "  </tbody>\n",
       "</table>\n",
       "</div>"
      ],
      "text/plain": [
       "   cantidad              grupo                   texto\n",
       "0        45  eventosHistoricos  batallaBerlinEspaciado\n",
       "1        23          astronomy               bigbang.t\n",
       "2        14         astronomia   sistemaSolarEspaciado\n",
       "3         8           noticias           iranEspaciado\n",
       "4        12           noticias      coincheckEspaciado"
      ]
     },
     "execution_count": 11,
     "metadata": {},
     "output_type": "execute_result"
    }
   ],
   "source": [
    "general_data.head()"
   ]
  },
  {
   "cell_type": "code",
   "execution_count": 12,
   "metadata": {},
   "outputs": [
    {
     "data": {
      "text/plain": [
       "<matplotlib.axes._subplots.AxesSubplot at 0x1108eb6a0>"
      ]
     },
     "execution_count": 12,
     "metadata": {},
     "output_type": "execute_result"
    },
    {
     "data": {
      "image/png": "[encoded data removed]",
      "text/plain": [
       "<Figure size 864x576 with 1 Axes>"
      ]
     },
     "metadata": {
      "image/png": {
       "height": 582,
       "width": 733
      }
     },
     "output_type": "display_data"
    }
   ],
   "source": [
    "# Visualizar datos como boxplots\n",
    "general_data.boxplot('cantidad', by='grupo', figsize=(12,8), rot=45)"
   ]
  },
  {
   "cell_type": "code",
   "execution_count": 13,
   "metadata": {},
   "outputs": [
    {
     "data": {
      "text/plain": [
       "array([[<matplotlib.axes._subplots.AxesSubplot object at 0x110a059e8>]],\n",
       "      dtype=object)"
      ]
     },
     "execution_count": 13,
     "metadata": {},
     "output_type": "execute_result"
    },
    {
     "data": {
      "image/png": "[encoded data removed]",
      "text/plain": [
       "<Figure size 864x576 with 1 Axes>"
      ]
     },
     "metadata": {
      "image/png": {
       "height": 481,
       "width": 705
      }
     },
     "output_type": "display_data"
    }
   ],
   "source": [
    "# Visualizar datos como un solo histograma\n",
    "general_data.hist('cantidad', bins=10, figsize=(12,8), color='purple', alpha=0.65)"
   ]
  },
  {
   "cell_type": "code",
   "execution_count": 14,
   "metadata": {},
   "outputs": [
    {
     "data": {
      "text/plain": [
       "array([[<matplotlib.axes._subplots.AxesSubplot object at 0x1a1d9e1748>,\n",
       "        <matplotlib.axes._subplots.AxesSubplot object at 0x1a1df32eb8>,\n",
       "        <matplotlib.axes._subplots.AxesSubplot object at 0x1a1df62588>],\n",
       "       [<matplotlib.axes._subplots.AxesSubplot object at 0x1a1df89c18>,\n",
       "        <matplotlib.axes._subplots.AxesSubplot object at 0x1a1dfbc2e8>,\n",
       "        <matplotlib.axes._subplots.AxesSubplot object at 0x1a1dfbc320>],\n",
       "       [<matplotlib.axes._subplots.AxesSubplot object at 0x1a1e017048>,\n",
       "        <matplotlib.axes._subplots.AxesSubplot object at 0x1a1e03e6d8>,\n",
       "        <matplotlib.axes._subplots.AxesSubplot object at 0x1a1e069940>]],\n",
       "      dtype=object)"
      ]
     },
     "execution_count": 14,
     "metadata": {},
     "output_type": "execute_result"
    },
    {
     "data": {
      "image/png": "[encoded data removed]",
      "text/plain": [
       "<Figure size 864x576 with 9 Axes>"
      ]
     },
     "metadata": {
      "image/png": {
       "height": 488,
       "width": 738
      }
     },
     "output_type": "display_data"
    }
   ],
   "source": [
    "# Visualizar datos como varios histogramas por grupo\n",
    "general_data.hist('cantidad', bins=6, figsize=(12,8), color='indigo', alpha=0.50, by='grupo')"
   ]
  },
  {
   "cell_type": "markdown",
   "metadata": {},
   "source": [
    "### Diferencias de un tipo de expresión temporal por tipos de texto"
   ]
  },
  {
   "cell_type": "markdown",
   "metadata": {},
   "source": [
    "Se señala qué **tipo de expresión temporal** se va a analizar:"
   ]
  },
  {
   "cell_type": "code",
   "execution_count": 15,
   "metadata": {},
   "outputs": [],
   "source": [
    "datos_texto = [(texto[0][texto[0].rfind('/')+1:], texto[1][:-8], cantidad) for texto in lista_archivos for cantidad in time_type(texto[0] + '/' + texto[1])]\n",
    "casos = [w for w in datos_texto if w[2] == 'TIME'] # DATE se puede cambiar para buscar \n",
    "# otra etiqueta\n",
    "set_casos = set(casos)"
   ]
  },
  {
   "cell_type": "code",
   "execution_count": 16,
   "metadata": {},
   "outputs": [],
   "source": [
    "d = [{'grupo': w[0], 'texto': w[1], 'cantidad': casos.count(w)} for w in set_casos]\n",
    "time_data = pd.DataFrame(d)"
   ]
  },
  {
   "cell_type": "markdown",
   "metadata": {},
   "source": [
    "Datos filtrados por la expresión temporal escogida:"
   ]
  },
  {
   "cell_type": "code",
   "execution_count": 17,
   "metadata": {},
   "outputs": [
    {
     "data": {
      "text/html": [
       "<div>\n",
       "<style scoped>\n",
       "    .dataframe tbody tr th:only-of-type {\n",
       "        vertical-align: middle;\n",
       "    }\n",
       "\n",
       "    .dataframe tbody tr th {\n",
       "        vertical-align: top;\n",
       "    }\n",
       "\n",
       "    .dataframe thead th {\n",
       "        text-align: right;\n",
       "    }\n",
       "</style>\n",
       "<table border=\"1\" class=\"dataframe\">\n",
       "  <thead>\n",
       "    <tr style=\"text-align: right;\">\n",
       "      <th></th>\n",
       "      <th>cantidad</th>\n",
       "      <th>grupo</th>\n",
       "      <th>texto</th>\n",
       "    </tr>\n",
       "  </thead>\n",
       "  <tbody>\n",
       "    <tr>\n",
       "      <th>0</th>\n",
       "      <td>3</td>\n",
       "      <td>news</td>\n",
       "      <td>coinCheck</td>\n",
       "    </tr>\n",
       "    <tr>\n",
       "      <th>1</th>\n",
       "      <td>5</td>\n",
       "      <td>eventosHistoricos</td>\n",
       "      <td>batallaBerlinEspaciado</td>\n",
       "    </tr>\n",
       "    <tr>\n",
       "      <th>2</th>\n",
       "      <td>1</td>\n",
       "      <td>zoology</td>\n",
       "      <td>tiger</td>\n",
       "    </tr>\n",
       "    <tr>\n",
       "      <th>3</th>\n",
       "      <td>1</td>\n",
       "      <td>zoology</td>\n",
       "      <td>giantPanda</td>\n",
       "    </tr>\n",
       "    <tr>\n",
       "      <th>4</th>\n",
       "      <td>1</td>\n",
       "      <td>eventosHistoricos</td>\n",
       "      <td>stalingradoEspaciado</td>\n",
       "    </tr>\n",
       "  </tbody>\n",
       "</table>\n",
       "</div>"
      ],
      "text/plain": [
       "   cantidad              grupo                   texto\n",
       "0         3               news               coinCheck\n",
       "1         5  eventosHistoricos  batallaBerlinEspaciado\n",
       "2         1            zoology                   tiger\n",
       "3         1            zoology              giantPanda\n",
       "4         1  eventosHistoricos    stalingradoEspaciado"
      ]
     },
     "execution_count": 17,
     "metadata": {},
     "output_type": "execute_result"
    }
   ],
   "source": [
    "time_data.head()"
   ]
  },
  {
   "cell_type": "markdown",
   "metadata": {},
   "source": [
    "Visualizar datos por tipos de texto:"
   ]
  },
  {
   "cell_type": "code",
   "execution_count": 18,
   "metadata": {},
   "outputs": [
    {
     "data": {
      "text/plain": [
       "<matplotlib.axes._subplots.AxesSubplot at 0x1a1e0c2a90>"
      ]
     },
     "execution_count": 18,
     "metadata": {},
     "output_type": "execute_result"
    },
    {
     "data": {
      "image/png": "[encoded data removed]",
      "text/plain": [
       "<Figure size 864x576 with 1 Axes>"
      ]
     },
     "metadata": {
      "image/png": {
       "height": 582,
       "width": 727
      }
     },
     "output_type": "display_data"
    }
   ],
   "source": [
    "# Visualizar datos como boxplots\n",
    "time_data.boxplot('cantidad', by='grupo', figsize=(12,8), rot=45)"
   ]
  },
  {
   "cell_type": "code",
   "execution_count": 19,
   "metadata": {},
   "outputs": [
    {
     "data": {
      "text/plain": [
       "array([[<matplotlib.axes._subplots.AxesSubplot object at 0x1a1e8d02e8>]],\n",
       "      dtype=object)"
      ]
     },
     "execution_count": 19,
     "metadata": {},
     "output_type": "execute_result"
    },
    {
     "data": {
      "image/png": "[encoded data removed]",
      "text/plain": [
       "<Figure size 864x576 with 1 Axes>"
      ]
     },
     "metadata": {
      "image/png": {
       "height": 481,
       "width": 699
      }
     },
     "output_type": "display_data"
    }
   ],
   "source": [
    "# Visualizar datos como histogram\n",
    "time_data.hist('cantidad', bins=10, figsize=(12,8))"
   ]
  },
  {
   "cell_type": "markdown",
   "metadata": {},
   "source": [
    "### Análisis estadístico de las diferencias entre los tipos de texto:"
   ]
  },
  {
   "cell_type": "code",
   "execution_count": 20,
   "metadata": {},
   "outputs": [],
   "source": [
    "grupos = pd.unique(time_data.grupo.values)\n",
    "d_time_data = {grp: time_data['cantidad'][time_data.grupo == grp] for grp in grupos}\n",
    "k = len(pd.unique(time_data.grupo))\n",
    "N = len(time_data.values)\n",
    "n = time_data.groupby('grupo').size()[0]"
   ]
  },
  {
   "cell_type": "code",
   "execution_count": 21,
   "metadata": {},
   "outputs": [],
   "source": [
    "# ANOVA one-way usando SciPy\n",
    "from scipy import stats\n",
    "\n",
    "f, p = stats.f_oneway(d_time_data['eventosHistoricos'], d_time_data['historicalevents'])"
   ]
  },
  {
   "cell_type": "code",
   "execution_count": 22,
   "metadata": {},
   "outputs": [
    {
     "data": {
      "text/plain": [
       "(1.1363636363636362, 0.34649037019369555, 5, 12, 3)"
      ]
     },
     "execution_count": 22,
     "metadata": {},
     "output_type": "execute_result"
    }
   ],
   "source": [
    "f, p, k, N, n"
   ]
  },
  {
   "cell_type": "code",
   "execution_count": 23,
   "metadata": {},
   "outputs": [
    {
     "name": "stdout",
     "output_type": "stream",
     "text": [
      "No es significativa la diferencia (p es mayor a 0,05).\n"
     ]
    }
   ],
   "source": [
    "if p < 0.05:\n",
    "    print('p es significativo.')\n",
    "else:\n",
    "    print('No es significativa la diferencia (p es mayor a 0,05).')"
   ]
  },
  {
   "cell_type": "markdown",
   "metadata": {},
   "source": [
    "### Diferencias en un texto con respecto al uso de diferentes tipos de expresión temporal"
   ]
  },
  {
   "cell_type": "markdown",
   "metadata": {},
   "source": [
    "Se señala qué **tipo de texto** se va a analizar:"
   ]
  },
  {
   "cell_type": "code",
   "execution_count": 24,
   "metadata": {},
   "outputs": [],
   "source": [
    "datos_texto = [(texto[0][texto[0].rfind('/')+1:], texto[1][:-8], cantidad) for texto in lista_archivos for cantidad in time_type(texto[0] + '/' + texto[1])]\n",
    "casos = [w for w in datos_texto if w[0] == 'noticias'] # Esto último se \n",
    "# puede cambiar para procesar otro tipo de texto.\n",
    "set_casos = set(casos)"
   ]
  },
  {
   "cell_type": "code",
   "execution_count": 25,
   "metadata": {},
   "outputs": [],
   "source": [
    "d = [{'grupo': w[1], 'etiqueta': w[2], 'cantidad': casos.count(w)} for w in set_casos]\n",
    "texto_data = pd.DataFrame(d)"
   ]
  },
  {
   "cell_type": "markdown",
   "metadata": {},
   "source": [
    "Datos filtrados por el tipo de texto escogido:"
   ]
  },
  {
   "cell_type": "code",
   "execution_count": 26,
   "metadata": {},
   "outputs": [
    {
     "data": {
      "text/html": [
       "<div>\n",
       "<style scoped>\n",
       "    .dataframe tbody tr th:only-of-type {\n",
       "        vertical-align: middle;\n",
       "    }\n",
       "\n",
       "    .dataframe tbody tr th {\n",
       "        vertical-align: top;\n",
       "    }\n",
       "\n",
       "    .dataframe thead th {\n",
       "        text-align: right;\n",
       "    }\n",
       "</style>\n",
       "<table border=\"1\" class=\"dataframe\">\n",
       "  <thead>\n",
       "    <tr style=\"text-align: right;\">\n",
       "      <th></th>\n",
       "      <th>cantidad</th>\n",
       "      <th>etiqueta</th>\n",
       "      <th>grupo</th>\n",
       "    </tr>\n",
       "  </thead>\n",
       "  <tbody>\n",
       "    <tr>\n",
       "      <th>0</th>\n",
       "      <td>1</td>\n",
       "      <td>DURATION</td>\n",
       "      <td>olimpiadasEspaciado.t</td>\n",
       "    </tr>\n",
       "    <tr>\n",
       "      <th>1</th>\n",
       "      <td>11</td>\n",
       "      <td>DATE</td>\n",
       "      <td>olimpiadasInviernoEspaciado</td>\n",
       "    </tr>\n",
       "    <tr>\n",
       "      <th>2</th>\n",
       "      <td>4</td>\n",
       "      <td>DURATION</td>\n",
       "      <td>iranEspaciado</td>\n",
       "    </tr>\n",
       "    <tr>\n",
       "      <th>3</th>\n",
       "      <td>2</td>\n",
       "      <td>DURATION</td>\n",
       "      <td>coincheckEspaciado</td>\n",
       "    </tr>\n",
       "    <tr>\n",
       "      <th>4</th>\n",
       "      <td>2</td>\n",
       "      <td>TIME</td>\n",
       "      <td>coincheckEspaciado</td>\n",
       "    </tr>\n",
       "    <tr>\n",
       "      <th>5</th>\n",
       "      <td>8</td>\n",
       "      <td>DATE</td>\n",
       "      <td>iranEspaciado</td>\n",
       "    </tr>\n",
       "    <tr>\n",
       "      <th>6</th>\n",
       "      <td>2</td>\n",
       "      <td>TIME</td>\n",
       "      <td>afganistanEspaciado</td>\n",
       "    </tr>\n",
       "    <tr>\n",
       "      <th>7</th>\n",
       "      <td>8</td>\n",
       "      <td>DATE</td>\n",
       "      <td>olimpiadasEspaciado.t</td>\n",
       "    </tr>\n",
       "    <tr>\n",
       "      <th>8</th>\n",
       "      <td>4</td>\n",
       "      <td>DURATION</td>\n",
       "      <td>olimpiadasInviernoEspaciado</td>\n",
       "    </tr>\n",
       "    <tr>\n",
       "      <th>9</th>\n",
       "      <td>12</td>\n",
       "      <td>DATE</td>\n",
       "      <td>coincheckEspaciado</td>\n",
       "    </tr>\n",
       "    <tr>\n",
       "      <th>10</th>\n",
       "      <td>7</td>\n",
       "      <td>DATE</td>\n",
       "      <td>afganistanEspaciado</td>\n",
       "    </tr>\n",
       "  </tbody>\n",
       "</table>\n",
       "</div>"
      ],
      "text/plain": [
       "    cantidad  etiqueta                        grupo\n",
       "0          1  DURATION        olimpiadasEspaciado.t\n",
       "1         11      DATE  olimpiadasInviernoEspaciado\n",
       "2          4  DURATION                iranEspaciado\n",
       "3          2  DURATION           coincheckEspaciado\n",
       "4          2      TIME           coincheckEspaciado\n",
       "5          8      DATE                iranEspaciado\n",
       "6          2      TIME          afganistanEspaciado\n",
       "7          8      DATE        olimpiadasEspaciado.t\n",
       "8          4  DURATION  olimpiadasInviernoEspaciado\n",
       "9         12      DATE           coincheckEspaciado\n",
       "10         7      DATE          afganistanEspaciado"
      ]
     },
     "execution_count": 26,
     "metadata": {},
     "output_type": "execute_result"
    }
   ],
   "source": [
    "texto_data"
   ]
  },
  {
   "cell_type": "markdown",
   "metadata": {},
   "source": [
    "#### Media total de expresiones temporales en el *tipo texto*:"
   ]
  },
  {
   "cell_type": "code",
   "execution_count": 27,
   "metadata": {},
   "outputs": [
    {
     "data": {
      "text/plain": [
       "cantidad    5.545455\n",
       "dtype: float64"
      ]
     },
     "execution_count": 27,
     "metadata": {},
     "output_type": "execute_result"
    }
   ],
   "source": [
    "texto_data.mean()"
   ]
  },
  {
   "cell_type": "markdown",
   "metadata": {},
   "source": [
    "#### Mediana total de expresiones temporales en el *tipo de texto*:"
   ]
  },
  {
   "cell_type": "code",
   "execution_count": 28,
   "metadata": {},
   "outputs": [
    {
     "data": {
      "text/plain": [
       "cantidad    4.0\n",
       "dtype: float64"
      ]
     },
     "execution_count": 28,
     "metadata": {},
     "output_type": "execute_result"
    }
   ],
   "source": [
    "# Mediana total:\n",
    "texto_data.median()"
   ]
  },
  {
   "cell_type": "markdown",
   "metadata": {},
   "source": [
    "#### Resumen del *tipo de texto*:"
   ]
  },
  {
   "cell_type": "code",
   "execution_count": 29,
   "metadata": {},
   "outputs": [
    {
     "data": {
      "text/html": [
       "<div>\n",
       "<style scoped>\n",
       "    .dataframe tbody tr th:only-of-type {\n",
       "        vertical-align: middle;\n",
       "    }\n",
       "\n",
       "    .dataframe tbody tr th {\n",
       "        vertical-align: top;\n",
       "    }\n",
       "\n",
       "    .dataframe thead tr th {\n",
       "        text-align: left;\n",
       "    }\n",
       "\n",
       "    .dataframe thead tr:last-of-type th {\n",
       "        text-align: right;\n",
       "    }\n",
       "</style>\n",
       "<table border=\"1\" class=\"dataframe\">\n",
       "  <thead>\n",
       "    <tr>\n",
       "      <th></th>\n",
       "      <th colspan=\"8\" halign=\"left\">cantidad</th>\n",
       "    </tr>\n",
       "    <tr>\n",
       "      <th></th>\n",
       "      <th>count</th>\n",
       "      <th>mean</th>\n",
       "      <th>std</th>\n",
       "      <th>min</th>\n",
       "      <th>25%</th>\n",
       "      <th>50%</th>\n",
       "      <th>75%</th>\n",
       "      <th>max</th>\n",
       "    </tr>\n",
       "    <tr>\n",
       "      <th>etiqueta</th>\n",
       "      <th></th>\n",
       "      <th></th>\n",
       "      <th></th>\n",
       "      <th></th>\n",
       "      <th></th>\n",
       "      <th></th>\n",
       "      <th></th>\n",
       "      <th></th>\n",
       "    </tr>\n",
       "  </thead>\n",
       "  <tbody>\n",
       "    <tr>\n",
       "      <th>DATE</th>\n",
       "      <td>5.0</td>\n",
       "      <td>9.20</td>\n",
       "      <td>2.167948</td>\n",
       "      <td>7.0</td>\n",
       "      <td>8.00</td>\n",
       "      <td>8.0</td>\n",
       "      <td>11.0</td>\n",
       "      <td>12.0</td>\n",
       "    </tr>\n",
       "    <tr>\n",
       "      <th>DURATION</th>\n",
       "      <td>4.0</td>\n",
       "      <td>2.75</td>\n",
       "      <td>1.500000</td>\n",
       "      <td>1.0</td>\n",
       "      <td>1.75</td>\n",
       "      <td>3.0</td>\n",
       "      <td>4.0</td>\n",
       "      <td>4.0</td>\n",
       "    </tr>\n",
       "    <tr>\n",
       "      <th>TIME</th>\n",
       "      <td>2.0</td>\n",
       "      <td>2.00</td>\n",
       "      <td>0.000000</td>\n",
       "      <td>2.0</td>\n",
       "      <td>2.00</td>\n",
       "      <td>2.0</td>\n",
       "      <td>2.0</td>\n",
       "      <td>2.0</td>\n",
       "    </tr>\n",
       "  </tbody>\n",
       "</table>\n",
       "</div>"
      ],
      "text/plain": [
       "         cantidad                                            \n",
       "            count  mean       std  min   25%  50%   75%   max\n",
       "etiqueta                                                     \n",
       "DATE          5.0  9.20  2.167948  7.0  8.00  8.0  11.0  12.0\n",
       "DURATION      4.0  2.75  1.500000  1.0  1.75  3.0   4.0   4.0\n",
       "TIME          2.0  2.00  0.000000  2.0  2.00  2.0   2.0   2.0"
      ]
     },
     "execution_count": 29,
     "metadata": {},
     "output_type": "execute_result"
    }
   ],
   "source": [
    "texto_data.groupby('etiqueta').describe()"
   ]
  },
  {
   "cell_type": "markdown",
   "metadata": {},
   "source": [
    "#### Visualizar datos por tipos de expresión temporal:"
   ]
  },
  {
   "cell_type": "code",
   "execution_count": 30,
   "metadata": {},
   "outputs": [
    {
     "data": {
      "text/plain": [
       "<matplotlib.axes._subplots.AxesSubplot at 0x1a1e211f28>"
      ]
     },
     "execution_count": 30,
     "metadata": {},
     "output_type": "execute_result"
    },
    {
     "data": {
      "image/png": "[encoded data removed]",
      "text/plain": [
       "<Figure size 864x576 with 1 Axes>"
      ]
     },
     "metadata": {
      "image/png": {
       "height": 522,
       "width": 727
      }
     },
     "output_type": "display_data"
    }
   ],
   "source": [
    "# Visualizar datos como boxplots\n",
    "texto_data.boxplot('cantidad', by='etiqueta', figsize=(12,8))"
   ]
  },
  {
   "cell_type": "code",
   "execution_count": 31,
   "metadata": {},
   "outputs": [
    {
     "data": {
      "text/plain": [
       "array([[<matplotlib.axes._subplots.AxesSubplot object at 0x1a1e82e2b0>]],\n",
       "      dtype=object)"
      ]
     },
     "execution_count": 31,
     "metadata": {},
     "output_type": "execute_result"
    },
    {
     "data": {
      "image/png": "[encoded data removed]",
      "text/plain": [
       "<Figure size 864x576 with 1 Axes>"
      ]
     },
     "metadata": {
      "image/png": {
       "height": 481,
       "width": 708
      }
     },
     "output_type": "display_data"
    }
   ],
   "source": [
    "# Visualizar datos como histogram\n",
    "texto_data.hist('cantidad', bins=6, figsize=(12,8))"
   ]
  },
  {
   "cell_type": "markdown",
   "metadata": {},
   "source": [
    "### Análisis estadístico de las diferencias entre los tipos de expresión temporal:"
   ]
  },
  {
   "cell_type": "code",
   "execution_count": 32,
   "metadata": {},
   "outputs": [],
   "source": [
    "grupos = pd.unique(texto_data.etiqueta.values)\n",
    "d_texto_data = {grp: texto_data['cantidad'][texto_data.etiqueta == grp] for grp in grupos}\n",
    "k = len(pd.unique(texto_data.etiqueta))\n",
    "N = len(texto_data.values)\n",
    "n = texto_data.groupby('etiqueta').size()[0]"
   ]
  },
  {
   "cell_type": "code",
   "execution_count": 33,
   "metadata": {},
   "outputs": [],
   "source": [
    "# ANOVA one-way usando SciPy\n",
    "from scipy import stats\n",
    "\n",
    "f, p = stats.f_oneway(d_texto_data['DATE'], d_texto_data['DURATION'], d_texto_data['TIME'])"
   ]
  },
  {
   "cell_type": "code",
   "execution_count": 34,
   "metadata": {},
   "outputs": [
    {
     "data": {
      "text/plain": [
       "(19.28411314712686, 0.0008709659186574564)"
      ]
     },
     "execution_count": 34,
     "metadata": {},
     "output_type": "execute_result"
    }
   ],
   "source": [
    "f, p"
   ]
  },
  {
   "cell_type": "code",
   "execution_count": 35,
   "metadata": {},
   "outputs": [
    {
     "name": "stdout",
     "output_type": "stream",
     "text": [
      "p es significativo.\n"
     ]
    }
   ],
   "source": [
    "if p < 0.05:\n",
    "    print('p es significativo.')\n",
    "else:\n",
    "    print('No es significativa la diferencia (p es mayor a 0,05).')"
   ]
  },
  {
   "cell_type": "markdown",
   "metadata": {},
   "source": [
    "## Prueba *t*\n",
    "\n",
    "Esto es solo un ejemplo. Hay que escoger bien lo que se va a comparar."
   ]
  },
  {
   "cell_type": "code",
   "execution_count": 36,
   "metadata": {},
   "outputs": [],
   "source": [
    "from scipy import stats\n",
    "import numpy as np"
   ]
  },
  {
   "cell_type": "code",
   "execution_count": 37,
   "metadata": {},
   "outputs": [],
   "source": [
    "datos_texto = [(texto[0][texto[0].rfind('/')+1:], texto[1][:-8], cantidad) for texto in lista_archivos for cantidad in time_type(texto[0] + '/' + texto[1])]\n",
    "casos = [w for w in datos_texto if w[2] == 'DATE'] # DATE se puede cambiar para buscar \n",
    "# otra etiqueta\n",
    "set_casos = set(casos)"
   ]
  },
  {
   "cell_type": "code",
   "execution_count": 38,
   "metadata": {},
   "outputs": [],
   "source": [
    "d = [{'grupo': w[0], 'texto': w[1], 'cantidad': casos.count(w)} for w in set_casos]\n",
    "time_data = pd.DataFrame(d)"
   ]
  },
  {
   "cell_type": "code",
   "execution_count": 39,
   "metadata": {},
   "outputs": [
    {
     "data": {
      "text/html": [
       "<div>\n",
       "<style scoped>\n",
       "    .dataframe tbody tr th:only-of-type {\n",
       "        vertical-align: middle;\n",
       "    }\n",
       "\n",
       "    .dataframe tbody tr th {\n",
       "        vertical-align: top;\n",
       "    }\n",
       "\n",
       "    .dataframe thead th {\n",
       "        text-align: right;\n",
       "    }\n",
       "</style>\n",
       "<table border=\"1\" class=\"dataframe\">\n",
       "  <thead>\n",
       "    <tr style=\"text-align: right;\">\n",
       "      <th></th>\n",
       "      <th>cantidad</th>\n",
       "      <th>grupo</th>\n",
       "      <th>texto</th>\n",
       "    </tr>\n",
       "  </thead>\n",
       "  <tbody>\n",
       "    <tr>\n",
       "      <th>35</th>\n",
       "      <td>34</td>\n",
       "      <td>astronomia</td>\n",
       "      <td>bigbangEspaciado</td>\n",
       "    </tr>\n",
       "    <tr>\n",
       "      <th>36</th>\n",
       "      <td>8</td>\n",
       "      <td>news</td>\n",
       "      <td>afganistan.t</td>\n",
       "    </tr>\n",
       "    <tr>\n",
       "      <th>37</th>\n",
       "      <td>91</td>\n",
       "      <td>zoology</td>\n",
       "      <td>polarBear</td>\n",
       "    </tr>\n",
       "    <tr>\n",
       "      <th>38</th>\n",
       "      <td>9</td>\n",
       "      <td>news</td>\n",
       "      <td>iran.t</td>\n",
       "    </tr>\n",
       "    <tr>\n",
       "      <th>39</th>\n",
       "      <td>36</td>\n",
       "      <td>astronomia</td>\n",
       "      <td>hoyoNegroEspaciado</td>\n",
       "    </tr>\n",
       "  </tbody>\n",
       "</table>\n",
       "</div>"
      ],
      "text/plain": [
       "    cantidad       grupo               texto\n",
       "35        34  astronomia    bigbangEspaciado\n",
       "36         8        news        afganistan.t\n",
       "37        91     zoology           polarBear\n",
       "38         9        news              iran.t\n",
       "39        36  astronomia  hoyoNegroEspaciado"
      ]
     },
     "execution_count": 39,
     "metadata": {},
     "output_type": "execute_result"
    }
   ],
   "source": [
    "time_data.tail()"
   ]
  },
  {
   "cell_type": "code",
   "execution_count": 40,
   "metadata": {},
   "outputs": [],
   "source": [
    "serie_historicalEvents = time_data[time_data['grupo'] == 'historicalevents'].cantidad"
   ]
  },
  {
   "cell_type": "code",
   "execution_count": 41,
   "metadata": {},
   "outputs": [],
   "source": [
    "serie_zoology = time_data[time_data['grupo'] == 'eventosHistoricos'].cantidad"
   ]
  },
  {
   "cell_type": "code",
   "execution_count": 42,
   "metadata": {},
   "outputs": [
    {
     "data": {
      "text/plain": [
       "0      28\n",
       "3      45\n",
       "17    152\n",
       "19     52\n",
       "22    119\n",
       "Name: cantidad, dtype: int64"
      ]
     },
     "execution_count": 42,
     "metadata": {},
     "output_type": "execute_result"
    }
   ],
   "source": [
    "serie_zoology"
   ]
  },
  {
   "cell_type": "code",
   "execution_count": 43,
   "metadata": {},
   "outputs": [
    {
     "data": {
      "text/plain": [
       "Ttest_indResult(statistic=1.979780758247612, pvalue=0.08307689976608093)"
      ]
     },
     "execution_count": 43,
     "metadata": {},
     "output_type": "execute_result"
    }
   ],
   "source": [
    "stats.ttest_ind(serie_historicalEvents, serie_zoology)"
   ]
  },
  {
   "cell_type": "markdown",
   "metadata": {},
   "source": [
    "## Prueba chi cuadrado"
   ]
  },
  {
   "cell_type": "code",
   "execution_count": 44,
   "metadata": {},
   "outputs": [],
   "source": [
    "from scipy import stats\n",
    "import numpy as np\n",
    "import xml.etree.ElementTree as etree\n",
    "import pandas as pd"
   ]
  },
  {
   "cell_type": "code",
   "execution_count": 45,
   "metadata": {},
   "outputs": [],
   "source": [
    "def time_type(archivo):\n",
    "    archivo_xml = etree.parse(archivo)\n",
    "    raiz_xml = archivo_xml.getroot()\n",
    "    lista_tipo = []\n",
    "    for i in raiz_xml[1]:\n",
    "        nodo = i.attrib\n",
    "        tipo = nodo.get('type') # si se cambia esto se pueden buscar otros atributos\n",
    "        lista_tipo.append(tipo)\n",
    "    return lista_tipo"
   ]
  },
  {
   "cell_type": "code",
   "execution_count": 46,
   "metadata": {},
   "outputs": [],
   "source": [
    "# Nota: No debe haber archivos ocultos en estos directorios.\n",
    "\n",
    "# Crea una lista de archivos XML\n",
    "lista_archivos = [(x, i) for x, y, z in os.walk('/Users/lino/Dropbox/Cosas de Christian-kun/Textos') for i in z if i.endswith('xml')] "
   ]
  },
  {
   "cell_type": "code",
   "execution_count": 47,
   "metadata": {},
   "outputs": [],
   "source": [
    "lista_tiempo = [(directorio[0][directorio[0].rfind('/')+1:], archivo) for directorio in lista_archivos \n",
    "                for archivo in time_type(directorio[0] + '/' + directorio[1])]"
   ]
  },
  {
   "cell_type": "code",
   "execution_count": 48,
   "metadata": {},
   "outputs": [],
   "source": [
    "d = [{'texto':a, 'time_type':b} for a, b in lista_tiempo]\n",
    "data = pd.DataFrame(d)"
   ]
  },
  {
   "cell_type": "code",
   "execution_count": 49,
   "metadata": {},
   "outputs": [
    {
     "data": {
      "text/plain": [
       "DATE        2196\n",
       "DURATION     640\n",
       "TIME          36\n",
       "SET           24\n",
       "Name: time_type, dtype: int64"
      ]
     },
     "execution_count": 49,
     "metadata": {},
     "output_type": "execute_result"
    }
   ],
   "source": [
    "data['time_type'].value_counts()"
   ]
  },
  {
   "cell_type": "code",
   "execution_count": 50,
   "metadata": {},
   "outputs": [
    {
     "data": {
      "text/html": [
       "<div>\n",
       "<style scoped>\n",
       "    .dataframe tbody tr th:only-of-type {\n",
       "        vertical-align: middle;\n",
       "    }\n",
       "\n",
       "    .dataframe tbody tr th {\n",
       "        vertical-align: top;\n",
       "    }\n",
       "\n",
       "    .dataframe thead th {\n",
       "        text-align: right;\n",
       "    }\n",
       "</style>\n",
       "<table border=\"1\" class=\"dataframe\">\n",
       "  <thead>\n",
       "    <tr style=\"text-align: right;\">\n",
       "      <th></th>\n",
       "      <th></th>\n",
       "      <th>time_type</th>\n",
       "    </tr>\n",
       "    <tr>\n",
       "      <th>texto</th>\n",
       "      <th>time_type</th>\n",
       "      <th></th>\n",
       "    </tr>\n",
       "  </thead>\n",
       "  <tbody>\n",
       "    <tr>\n",
       "      <th rowspan=\"3\" valign=\"top\">astronomia</th>\n",
       "      <th>DATE</th>\n",
       "      <td>166</td>\n",
       "    </tr>\n",
       "    <tr>\n",
       "      <th>DURATION</th>\n",
       "      <td>44</td>\n",
       "    </tr>\n",
       "    <tr>\n",
       "      <th>SET</th>\n",
       "      <td>1</td>\n",
       "    </tr>\n",
       "    <tr>\n",
       "      <th rowspan=\"3\" valign=\"top\">astronomy</th>\n",
       "      <th>DATE</th>\n",
       "      <td>212</td>\n",
       "    </tr>\n",
       "    <tr>\n",
       "      <th>DURATION</th>\n",
       "      <td>87</td>\n",
       "    </tr>\n",
       "    <tr>\n",
       "      <th>SET</th>\n",
       "      <td>6</td>\n",
       "    </tr>\n",
       "    <tr>\n",
       "      <th rowspan=\"4\" valign=\"top\">eventosHistoricos</th>\n",
       "      <th>DATE</th>\n",
       "      <td>396</td>\n",
       "    </tr>\n",
       "    <tr>\n",
       "      <th>DURATION</th>\n",
       "      <td>54</td>\n",
       "    </tr>\n",
       "    <tr>\n",
       "      <th>SET</th>\n",
       "      <td>1</td>\n",
       "    </tr>\n",
       "    <tr>\n",
       "      <th>TIME</th>\n",
       "      <td>8</td>\n",
       "    </tr>\n",
       "    <tr>\n",
       "      <th rowspan=\"4\" valign=\"top\">historicalevents</th>\n",
       "      <th>DATE</th>\n",
       "      <td>839</td>\n",
       "    </tr>\n",
       "    <tr>\n",
       "      <th>DURATION</th>\n",
       "      <td>177</td>\n",
       "    </tr>\n",
       "    <tr>\n",
       "      <th>SET</th>\n",
       "      <td>4</td>\n",
       "    </tr>\n",
       "    <tr>\n",
       "      <th>TIME</th>\n",
       "      <td>18</td>\n",
       "    </tr>\n",
       "    <tr>\n",
       "      <th rowspan=\"4\" valign=\"top\">news</th>\n",
       "      <th>DATE</th>\n",
       "      <td>50</td>\n",
       "    </tr>\n",
       "    <tr>\n",
       "      <th>DURATION</th>\n",
       "      <td>13</td>\n",
       "    </tr>\n",
       "    <tr>\n",
       "      <th>SET</th>\n",
       "      <td>1</td>\n",
       "    </tr>\n",
       "    <tr>\n",
       "      <th>TIME</th>\n",
       "      <td>4</td>\n",
       "    </tr>\n",
       "    <tr>\n",
       "      <th rowspan=\"3\" valign=\"top\">noticias</th>\n",
       "      <th>DATE</th>\n",
       "      <td>46</td>\n",
       "    </tr>\n",
       "    <tr>\n",
       "      <th>DURATION</th>\n",
       "      <td>11</td>\n",
       "    </tr>\n",
       "    <tr>\n",
       "      <th>TIME</th>\n",
       "      <td>4</td>\n",
       "    </tr>\n",
       "    <tr>\n",
       "      <th rowspan=\"3\" valign=\"top\">zoologia</th>\n",
       "      <th>DATE</th>\n",
       "      <td>126</td>\n",
       "    </tr>\n",
       "    <tr>\n",
       "      <th>DURATION</th>\n",
       "      <td>105</td>\n",
       "    </tr>\n",
       "    <tr>\n",
       "      <th>SET</th>\n",
       "      <td>3</td>\n",
       "    </tr>\n",
       "    <tr>\n",
       "      <th rowspan=\"4\" valign=\"top\">zoology</th>\n",
       "      <th>DATE</th>\n",
       "      <td>361</td>\n",
       "    </tr>\n",
       "    <tr>\n",
       "      <th>DURATION</th>\n",
       "      <td>149</td>\n",
       "    </tr>\n",
       "    <tr>\n",
       "      <th>SET</th>\n",
       "      <td>8</td>\n",
       "    </tr>\n",
       "    <tr>\n",
       "      <th>TIME</th>\n",
       "      <td>2</td>\n",
       "    </tr>\n",
       "  </tbody>\n",
       "</table>\n",
       "</div>"
      ],
      "text/plain": [
       "                             time_type\n",
       "texto             time_type           \n",
       "astronomia        DATE             166\n",
       "                  DURATION          44\n",
       "                  SET                1\n",
       "astronomy         DATE             212\n",
       "                  DURATION          87\n",
       "                  SET                6\n",
       "eventosHistoricos DATE             396\n",
       "                  DURATION          54\n",
       "                  SET                1\n",
       "                  TIME               8\n",
       "historicalevents  DATE             839\n",
       "                  DURATION         177\n",
       "                  SET                4\n",
       "                  TIME              18\n",
       "news              DATE              50\n",
       "                  DURATION          13\n",
       "                  SET                1\n",
       "                  TIME               4\n",
       "noticias          DATE              46\n",
       "                  DURATION          11\n",
       "                  TIME               4\n",
       "zoologia          DATE             126\n",
       "                  DURATION         105\n",
       "                  SET                3\n",
       "zoology           DATE             361\n",
       "                  DURATION         149\n",
       "                  SET                8\n",
       "                  TIME               2"
      ]
     },
     "execution_count": 50,
     "metadata": {},
     "output_type": "execute_result"
    }
   ],
   "source": [
    "data_agrupada = data.groupby(['texto', 'time_type']).agg({'time_type':\"count\"})\n",
    "data_agrupada"
   ]
  },
  {
   "cell_type": "code",
   "execution_count": 51,
   "metadata": {},
   "outputs": [],
   "source": [
    "observed_values = np.array([[166,44,1,0],[212,87,6,0],[396,54,1,8],[839,177,4,18],[50,13,1,4],[46,11,0,4],[126,105,3,0],[361,149,8,2]])"
   ]
  },
  {
   "cell_type": "code",
   "execution_count": 52,
   "metadata": {},
   "outputs": [],
   "source": [
    "expected_values = np.array([[160,46.63,1.75,2.62],[231.28,67.4,2.53,3.79],[348.05,101.44,3.8,5.71],[787.1,229.39,8.6,12.9],[51.56,15.03,0.56,0.85],[46.26,13.48,0.51,0.76],[177.44,51.71,1.94,2.91],[394.31,114.92,4.31,6.46]])"
   ]
  },
  {
   "cell_type": "code",
   "execution_count": 53,
   "metadata": {},
   "outputs": [
    {
     "data": {
      "text/plain": [
       "Power_divergenceResult(statistic=9942.32044198895, pvalue=0.0)"
      ]
     },
     "execution_count": 53,
     "metadata": {},
     "output_type": "execute_result"
    }
   ],
   "source": [
    "stats.chisquare(observed_values, axis=None) # Aplica chi a toda la tabla."
   ]
  },
  {
   "cell_type": "code",
   "execution_count": 54,
   "metadata": {},
   "outputs": [
    {
     "data": {
      "text/plain": [
       "(190.55510760043933,\n",
       " 2.5860011386948674e-29,\n",
       " 21,\n",
       " array([[1.59998619e+02, 4.66298343e+01, 1.74861878e+00, 2.62292818e+00],\n",
       "        [2.31277624e+02, 6.74033149e+01, 2.52762431e+00, 3.79143646e+00],\n",
       "        [3.48053867e+02, 1.01436464e+02, 3.80386740e+00, 5.70580110e+00],\n",
       "        [7.87102210e+02, 2.29392265e+02, 8.60220994e+00, 1.29033149e+01],\n",
       "        [5.15635359e+01, 1.50276243e+01, 5.63535912e-01, 8.45303867e-01],\n",
       "        [4.62555249e+01, 1.34806630e+01, 5.05524862e-01, 7.58287293e-01],\n",
       "        [1.77439227e+02, 5.17127072e+01, 1.93922652e+00, 2.90883978e+00],\n",
       "        [3.94309392e+02, 1.14917127e+02, 4.30939227e+00, 6.46408840e+00]]))"
      ]
     },
     "execution_count": 54,
     "metadata": {},
     "output_type": "execute_result"
    }
   ],
   "source": [
    "stats.chi2_contingency(observed_values) # Este muestra chi cuadrado, p, grados de libertad, y valores esperados"
   ]
  },
  {
   "cell_type": "markdown",
   "metadata": {},
   "source": [
    "### Nota:\n",
    "Se espera que en chi cuadrado, los valores esperados sean siempre mayores a 5. En este caso, hay varios que dan valores menores. Intenté \"colapsar\" las dos últimas columnas, pero sigue habiendo valores esperados menores a cinco. La recomendación para otros trabajos sería recoger un corpus más grande o equilibrado."
   ]
  },
  {
   "cell_type": "markdown",
   "metadata": {},
   "source": [
    "## Casos de expresiones temporales\n",
    "\n",
    "Lo siguiente permite observar los casos individuales de las expresiones temporales, en lugar de contarlas. Puede usarse para extraer ejemplos o realizar un análisis cualitativo de estas expresiones. También se pueden exportar como un CSV."
   ]
  },
  {
   "cell_type": "code",
   "execution_count": 55,
   "metadata": {},
   "outputs": [],
   "source": [
    "def time_expression(archivo):\n",
    "     archivo_xml = etree.parse(archivo)\n",
    "     raiz_xml = archivo_xml.getroot()\n",
    "     lista_tipo = []\n",
    "     for i in raiz_xml[1]:\n",
    "         nodo = i.attrib\n",
    "         tipo = nodo.get('type') # si se cambia esto se pueden buscar otros atributos\n",
    "         texto = nodo.get('text')  # si se cambia esto se pueden buscar otros atributos\n",
    "         lista_tipo.append([tipo, texto])\n",
    "     return lista_tipo"
   ]
  },
  {
   "cell_type": "code",
   "execution_count": 56,
   "metadata": {},
   "outputs": [],
   "source": [
    "lista_expresiones = [(directorio[0][directorio[0].rfind('/')+1:], archivo) for directorio in lista_archivos \n",
    "                for archivo in time_expression(directorio[0] + '/' + directorio[1])]"
   ]
  },
  {
   "cell_type": "code",
   "execution_count": 57,
   "metadata": {},
   "outputs": [],
   "source": [
    "d = [{'texto': a, 'time_type': b[0], 'time_expression': b[1]} for a, b in lista_expresiones]\n",
    "data_expresiones = pd.DataFrame(d)"
   ]
  },
  {
   "cell_type": "code",
   "execution_count": 58,
   "metadata": {},
   "outputs": [
    {
     "data": {
      "text/html": [
       "<div>\n",
       "<style scoped>\n",
       "    .dataframe tbody tr th:only-of-type {\n",
       "        vertical-align: middle;\n",
       "    }\n",
       "\n",
       "    .dataframe tbody tr th {\n",
       "        vertical-align: top;\n",
       "    }\n",
       "\n",
       "    .dataframe thead th {\n",
       "        text-align: right;\n",
       "    }\n",
       "</style>\n",
       "<table border=\"1\" class=\"dataframe\">\n",
       "  <thead>\n",
       "    <tr style=\"text-align: right;\">\n",
       "      <th></th>\n",
       "      <th>texto</th>\n",
       "      <th>time_expression</th>\n",
       "      <th>time_type</th>\n",
       "    </tr>\n",
       "  </thead>\n",
       "  <tbody>\n",
       "    <tr>\n",
       "      <th>0</th>\n",
       "      <td>astronomia</td>\n",
       "      <td>1609 年</td>\n",
       "      <td>DATE</td>\n",
       "    </tr>\n",
       "    <tr>\n",
       "      <th>1</th>\n",
       "      <td>astronomia</td>\n",
       "      <td>1755 年</td>\n",
       "      <td>DATE</td>\n",
       "    </tr>\n",
       "    <tr>\n",
       "      <th>2</th>\n",
       "      <td>astronomia</td>\n",
       "      <td>1958 年</td>\n",
       "      <td>DATE</td>\n",
       "    </tr>\n",
       "    <tr>\n",
       "      <th>3</th>\n",
       "      <td>astronomia</td>\n",
       "      <td>1980 年代</td>\n",
       "      <td>DATE</td>\n",
       "    </tr>\n",
       "    <tr>\n",
       "      <th>4</th>\n",
       "      <td>astronomia</td>\n",
       "      <td>2005 年</td>\n",
       "      <td>DATE</td>\n",
       "    </tr>\n",
       "  </tbody>\n",
       "</table>\n",
       "</div>"
      ],
      "text/plain": [
       "        texto time_expression time_type\n",
       "0  astronomia          1609 年      DATE\n",
       "1  astronomia          1755 年      DATE\n",
       "2  astronomia          1958 年      DATE\n",
       "3  astronomia         1980 年代      DATE\n",
       "4  astronomia          2005 年      DATE"
      ]
     },
     "execution_count": 58,
     "metadata": {},
     "output_type": "execute_result"
    }
   ],
   "source": [
    "data_expresiones.head()"
   ]
  },
  {
   "cell_type": "code",
   "execution_count": 59,
   "metadata": {},
   "outputs": [
    {
     "data": {
      "text/html": [
       "<div>\n",
       "<style scoped>\n",
       "    .dataframe tbody tr th:only-of-type {\n",
       "        vertical-align: middle;\n",
       "    }\n",
       "\n",
       "    .dataframe tbody tr th {\n",
       "        vertical-align: top;\n",
       "    }\n",
       "\n",
       "    .dataframe thead th {\n",
       "        text-align: right;\n",
       "    }\n",
       "</style>\n",
       "<table border=\"1\" class=\"dataframe\">\n",
       "  <thead>\n",
       "    <tr style=\"text-align: right;\">\n",
       "      <th></th>\n",
       "      <th>texto</th>\n",
       "      <th>time_expression</th>\n",
       "      <th>time_type</th>\n",
       "    </tr>\n",
       "  </thead>\n",
       "  <tbody>\n",
       "    <tr>\n",
       "      <th>670</th>\n",
       "      <td>astronomy</td>\n",
       "      <td>1610</td>\n",
       "      <td>DATE</td>\n",
       "    </tr>\n",
       "    <tr>\n",
       "      <th>671</th>\n",
       "      <td>astronomy</td>\n",
       "      <td>the early 1920s</td>\n",
       "      <td>DATE</td>\n",
       "    </tr>\n",
       "    <tr>\n",
       "      <th>672</th>\n",
       "      <td>astronomy</td>\n",
       "      <td>1920</td>\n",
       "      <td>DATE</td>\n",
       "    </tr>\n",
       "    <tr>\n",
       "      <th>673</th>\n",
       "      <td>astronomy</td>\n",
       "      <td>2009</td>\n",
       "      <td>DATE</td>\n",
       "    </tr>\n",
       "    <tr>\n",
       "      <th>674</th>\n",
       "      <td>astronomy</td>\n",
       "      <td>November 4, 2013</td>\n",
       "      <td>DATE</td>\n",
       "    </tr>\n",
       "  </tbody>\n",
       "</table>\n",
       "</div>"
      ],
      "text/plain": [
       "         texto   time_expression time_type\n",
       "670  astronomy              1610      DATE\n",
       "671  astronomy   the early 1920s      DATE\n",
       "672  astronomy              1920      DATE\n",
       "673  astronomy              2009      DATE\n",
       "674  astronomy  November 4, 2013      DATE"
      ]
     },
     "execution_count": 59,
     "metadata": {},
     "output_type": "execute_result"
    }
   ],
   "source": [
    "data_expresiones[data_expresiones['texto'] == 'astronomy'].head()"
   ]
  },
  {
   "cell_type": "code",
   "execution_count": 60,
   "metadata": {},
   "outputs": [],
   "source": [
    "lista_ingles = ['astronomy', 'news', 'historicalevents', 'zoology']\n",
    "data_ingles = data_expresiones.loc[data_expresiones['texto'].isin(lista_ingles)]"
   ]
  },
  {
   "cell_type": "code",
   "execution_count": 65,
   "metadata": {},
   "outputs": [
    {
     "data": {
      "text/html": [
       "<div>\n",
       "<style scoped>\n",
       "    .dataframe tbody tr th:only-of-type {\n",
       "        vertical-align: middle;\n",
       "    }\n",
       "\n",
       "    .dataframe tbody tr th {\n",
       "        vertical-align: top;\n",
       "    }\n",
       "\n",
       "    .dataframe thead th {\n",
       "        text-align: right;\n",
       "    }\n",
       "</style>\n",
       "<table border=\"1\" class=\"dataframe\">\n",
       "  <thead>\n",
       "    <tr style=\"text-align: right;\">\n",
       "      <th></th>\n",
       "      <th>texto</th>\n",
       "      <th>time_expression</th>\n",
       "      <th>time_type</th>\n",
       "    </tr>\n",
       "  </thead>\n",
       "  <tbody>\n",
       "    <tr>\n",
       "      <th>670</th>\n",
       "      <td>astronomy</td>\n",
       "      <td>1610</td>\n",
       "      <td>DATE</td>\n",
       "    </tr>\n",
       "    <tr>\n",
       "      <th>671</th>\n",
       "      <td>astronomy</td>\n",
       "      <td>the early 1920s</td>\n",
       "      <td>DATE</td>\n",
       "    </tr>\n",
       "    <tr>\n",
       "      <th>672</th>\n",
       "      <td>astronomy</td>\n",
       "      <td>1920</td>\n",
       "      <td>DATE</td>\n",
       "    </tr>\n",
       "    <tr>\n",
       "      <th>673</th>\n",
       "      <td>astronomy</td>\n",
       "      <td>2009</td>\n",
       "      <td>DATE</td>\n",
       "    </tr>\n",
       "    <tr>\n",
       "      <th>674</th>\n",
       "      <td>astronomy</td>\n",
       "      <td>November 4, 2013</td>\n",
       "      <td>DATE</td>\n",
       "    </tr>\n",
       "  </tbody>\n",
       "</table>\n",
       "</div>"
      ],
      "text/plain": [
       "         texto   time_expression time_type\n",
       "670  astronomy              1610      DATE\n",
       "671  astronomy   the early 1920s      DATE\n",
       "672  astronomy              1920      DATE\n",
       "673  astronomy              2009      DATE\n",
       "674  astronomy  November 4, 2013      DATE"
      ]
     },
     "execution_count": 65,
     "metadata": {},
     "output_type": "execute_result"
    }
   ],
   "source": [
    "data_ingles.head()"
   ]
  },
  {
   "cell_type": "code",
   "execution_count": 62,
   "metadata": {},
   "outputs": [],
   "source": [
    "lista_japones = ['astronomia', 'noticias', 'eventosHistoricos', 'zoologia']\n",
    "data_japones = data_expresiones.loc[data_expresiones['texto'].isin(lista_ingles)]"
   ]
  },
  {
   "cell_type": "code",
   "execution_count": 66,
   "metadata": {},
   "outputs": [
    {
     "data": {
      "text/html": [
       "<div>\n",
       "<style scoped>\n",
       "    .dataframe tbody tr th:only-of-type {\n",
       "        vertical-align: middle;\n",
       "    }\n",
       "\n",
       "    .dataframe tbody tr th {\n",
       "        vertical-align: top;\n",
       "    }\n",
       "\n",
       "    .dataframe thead th {\n",
       "        text-align: right;\n",
       "    }\n",
       "</style>\n",
       "<table border=\"1\" class=\"dataframe\">\n",
       "  <thead>\n",
       "    <tr style=\"text-align: right;\">\n",
       "      <th></th>\n",
       "      <th>texto</th>\n",
       "      <th>time_expression</th>\n",
       "      <th>time_type</th>\n",
       "    </tr>\n",
       "  </thead>\n",
       "  <tbody>\n",
       "    <tr>\n",
       "      <th>670</th>\n",
       "      <td>astronomy</td>\n",
       "      <td>1610</td>\n",
       "      <td>DATE</td>\n",
       "    </tr>\n",
       "    <tr>\n",
       "      <th>671</th>\n",
       "      <td>astronomy</td>\n",
       "      <td>the early 1920s</td>\n",
       "      <td>DATE</td>\n",
       "    </tr>\n",
       "    <tr>\n",
       "      <th>672</th>\n",
       "      <td>astronomy</td>\n",
       "      <td>1920</td>\n",
       "      <td>DATE</td>\n",
       "    </tr>\n",
       "    <tr>\n",
       "      <th>673</th>\n",
       "      <td>astronomy</td>\n",
       "      <td>2009</td>\n",
       "      <td>DATE</td>\n",
       "    </tr>\n",
       "    <tr>\n",
       "      <th>674</th>\n",
       "      <td>astronomy</td>\n",
       "      <td>November 4, 2013</td>\n",
       "      <td>DATE</td>\n",
       "    </tr>\n",
       "  </tbody>\n",
       "</table>\n",
       "</div>"
      ],
      "text/plain": [
       "         texto   time_expression time_type\n",
       "670  astronomy              1610      DATE\n",
       "671  astronomy   the early 1920s      DATE\n",
       "672  astronomy              1920      DATE\n",
       "673  astronomy              2009      DATE\n",
       "674  astronomy  November 4, 2013      DATE"
      ]
     },
     "execution_count": 66,
     "metadata": {},
     "output_type": "execute_result"
    }
   ],
   "source": [
    "data_japones.head()"
   ]
  },
  {
   "cell_type": "markdown",
   "metadata": {},
   "source": [
    "### Exportar a un CSV:"
   ]
  },
  {
   "cell_type": "code",
   "execution_count": 64,
   "metadata": {},
   "outputs": [],
   "source": [
    "#data_ingles.to_csv('/Users/lino/Dropbox/Cosas de Christian-kun/Textos/expresiones_temporales_ingles.csv', sep=',')"
   ]
  },
  {
   "cell_type": "code",
   "execution_count": null,
   "metadata": {},
   "outputs": [],
   "source": []
  }
 ],
 "metadata": {
  "kernelspec": {
   "display_name": "Python 3",
   "language": "python",
   "name": "python3"
  },
  "language_info": {
   "codemirror_mode": {
    "name": "ipython",
    "version": 3
   },
   "file_extension": ".py",
   "mimetype": "text/x-python",
   "name": "python",
   "nbconvert_exporter": "python",
   "pygments_lexer": "ipython3",
   "version": "3.6.5"
  }
 },
 "nbformat": 4,
 "nbformat_minor": 2
}
